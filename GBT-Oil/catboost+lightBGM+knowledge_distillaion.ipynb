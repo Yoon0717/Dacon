{
 "cells": [
  {
   "cell_type": "code",
   "execution_count": null,
   "id": "Wyl6HNQWX4h3",
   "metadata": {
    "colab": {
     "base_uri": "https://localhost:8080/"
    },
    "executionInfo": {
     "elapsed": 18815,
     "status": "ok",
     "timestamp": 1696748024704,
     "user": {
      "displayName": "‍한승윤[재학 / 컴퓨터.전자시스템공학전공]",
      "userId": "08967695426292389766"
     },
     "user_tz": -540
    },
    "id": "Wyl6HNQWX4h3",
    "outputId": "22973bdd-a563-4f62-ce24-9a5bd6cd6047"
   },
   "outputs": [],
   "source": [
    "from google.colab import drive\n",
    "drive.mount('/content/drive')"
   ]
  },
  {
   "cell_type": "code",
   "execution_count": null,
   "id": "p-24M0XmYLUt",
   "metadata": {
    "colab": {
     "base_uri": "https://localhost:8080/",
     "height": 1000
    },
    "executionInfo": {
     "elapsed": 170179,
     "status": "ok",
     "timestamp": 1696748194881,
     "user": {
      "displayName": "‍한승윤[재학 / 컴퓨터.전자시스템공학전공]",
      "userId": "08967695426292389766"
     },
     "user_tz": -540
    },
    "id": "p-24M0XmYLUt",
    "outputId": "b39e620a-d092-4fde-972f-16071dad5690"
   },
   "outputs": [],
   "source": [
    "!pip install catboost\n",
    "!pip install optuna\n",
    "!pip install pycaret[full]"
   ]
  },
  {
   "cell_type": "code",
   "execution_count": null,
   "id": "3b5c00a5",
   "metadata": {
    "id": "3b5c00a5"
   },
   "outputs": [],
   "source": [
    "import pandas as pd\n",
    "import numpy as np\n",
    "import seaborn as sns\n",
    "import matplotlib.pyplot as plt\n",
    "import matplotlib.font_manager as fm\n",
    "%matplotlib inline\n",
    "\n",
    "from scipy.stats import ranksums\n",
    "\n",
    "from sklearn.model_selection import StratifiedKFold, train_test_split, KFold\n",
    "from sklearn.metrics import mean_absolute_error, roc_auc_score, f1_score, confusion_matrix\n",
    "from sklearn.preprocessing import LabelEncoder\n",
    "\n",
    "from catboost import CatBoostClassifier, CatBoostRegressor\n",
    "\n",
    "import optuna\n",
    "from optuna import Trial\n",
    "from optuna.samplers import TPESampler\n",
    "\n",
    "import random\n",
    "from collections import Counter\n",
    "\n",
    "import pickle\n",
    "\n",
    "import warnings\n",
    "warnings.filterwarnings(action = 'ignore')"
   ]
  },
  {
   "cell_type": "code",
   "execution_count": null,
   "id": "12615310",
   "metadata": {
    "id": "12615310"
   },
   "outputs": [],
   "source": [
    "# 데이터 불러오기\n",
    "train = pd.read_csv('/content/drive/MyDrive/Colab Notebooks/dacon/train.csv')\n",
    "test = pd.read_csv('/content/drive/MyDrive/Colab Notebooks/dacon/test.csv')"
   ]
  },
  {
   "cell_type": "code",
   "execution_count": null,
   "id": "b618a72d",
   "metadata": {
    "colab": {
     "base_uri": "https://localhost:8080/"
    },
    "executionInfo": {
     "elapsed": 24,
     "status": "ok",
     "timestamp": 1696740242747,
     "user": {
      "displayName": "‍한승윤[재학 / 컴퓨터.전자시스템공학전공]",
      "userId": "08967695426292389766"
     },
     "user_tz": -540
    },
    "id": "b618a72d",
    "outputId": "09775da2-38fc-4a83-baf9-d9b6dbddee79"
   },
   "outputs": [],
   "source": [
    "# 결측치가 있는 변수 개수 파악\n",
    "mis_val = train.isnull().sum()\n",
    "#print(mis_val)\n",
    "mis_val_bool = mis_val >= 1\n",
    "mis_val_df = pd.concat([mis_val, mis_val_bool], axis = 1)\n",
    "mis_val_df = mis_val_df.rename(columns = {0 : 'mis_val', 1 : 'mis_val_bool'})\n",
    "\n",
    "print(mis_val_df['mis_val_bool'].value_counts())"
   ]
  },
  {
   "cell_type": "markdown",
   "id": "K_2Ntg3XmEZa",
   "metadata": {
    "id": "K_2Ntg3XmEZa"
   },
   "source": [
    "######결측치를 보유한 데이터 = 19\n",
    "######그 중에서 K와 CD를 제외한 나머지는 결측률이 높음\n",
    "######K와 CD는 살리기로 결정"
   ]
  },
  {
   "cell_type": "code",
   "execution_count": null,
   "id": "93e20f43",
   "metadata": {
    "colab": {
     "base_uri": "https://localhost:8080/",
     "height": 645
    },
    "executionInfo": {
     "elapsed": 19,
     "status": "ok",
     "timestamp": 1696740242747,
     "user": {
      "displayName": "‍한승윤[재학 / 컴퓨터.전자시스템공학전공]",
      "userId": "08967695426292389766"
     },
     "user_tz": -540
    },
    "id": "93e20f43",
    "outputId": "fc375cf3-f8cb-47c7-a414-96172aceaeff"
   },
   "outputs": [],
   "source": [
    "# 결측치가 있는 변수 및 결측률 파악\n",
    "\n",
    "mis_val_data = mis_val_df.loc[mis_val_df['mis_val_bool'] == True, :]\n",
    "mis_val_data['ratio'] = mis_val_data['mis_val'] / 14095\n",
    "mis_val_data"
   ]
  },
  {
   "cell_type": "code",
   "execution_count": null,
   "id": "af14e639",
   "metadata": {
    "colab": {
     "base_uri": "https://localhost:8080/"
    },
    "executionInfo": {
     "elapsed": 512,
     "status": "ok",
     "timestamp": 1696689627670,
     "user": {
      "displayName": "‍한승윤[재학 / 컴퓨터.전자시스템공학전공]",
      "userId": "08967695426292389766"
     },
     "user_tz": -540
    },
    "id": "af14e639",
    "outputId": "3db02b75-072c-4b83-e9f9-26564afb3fe1"
   },
   "outputs": [],
   "source": [
    "# 결측률이 20% 이상인 변수들 제거\n",
    "\n",
    "notnull_columns = train.loc[:, train.notnull().sum(axis = 0) == 14095].columns\n",
    "notnull_columns = notnull_columns[1 :] #id제거\n",
    "notnull_columns = list(notnull_columns)\n",
    "\n",
    "select_columns = notnull_columns[: 32] + ['K', 'CD'] + notnull_columns[32 :] #순서유지\n",
    "train2 = train.loc[:, select_columns] #train에서 제거한 내용을 train2에 저장\n",
    "#print(train.shape)\n",
    "print(train2.shape)\n",
    "print(train2.columns)"
   ]
  },
  {
   "cell_type": "code",
   "execution_count": null,
   "id": "8d6080c5",
   "metadata": {
    "colab": {
     "base_uri": "https://localhost:8080/",
     "height": 1000
    },
    "executionInfo": {
     "elapsed": 551,
     "status": "ok",
     "timestamp": 1696689631436,
     "user": {
      "displayName": "‍한승윤[재학 / 컴퓨터.전자시스템공학전공]",
      "userId": "08967695426292389766"
     },
     "user_tz": -540
    },
    "id": "8d6080c5",
    "outputId": "3a56ebe9-4322-4480-d1cc-b837d6bb52c5"
   },
   "outputs": [],
   "source": [
    "# train 데이터, test 데이터에 모두 포함되어 있는 변수 18개의 상관관계 분석\n",
    "\n",
    "t = train2.copy()\n",
    "corr = t.corr()\n",
    "corr.style.background_gradient(cmap = 'coolwarm')\n",
    "\n",
    "# TI와 V : 0.678\n",
    "# FE와 SI : 0.649\n",
    "# NI와 SI : 0.630\n",
    "# FE와 MN : 0.622\n",
    "# S와 V40 : 0.607\n",
    "# SI와 TI : 0.606\n",
    "# SI와 K : 0.605\n",
    "# MN와 TI : 0.585\n",
    "# FE와 NI : 0.583\n",
    "# MN와 SI : 0.554\n",
    "# CO와 FE : 0.537\n",
    "# MN와 NI : 0.583\n",
    "# TI와 K : 0.524\n",
    "# MN와 K : 0.511"
   ]
  },
  {
   "cell_type": "code",
   "execution_count": null,
   "id": "09fe647b",
   "metadata": {
    "id": "09fe647b"
   },
   "outputs": [],
   "source": [
    "# IQR을 이용하여 정상 범위 추출하기\n",
    "\n",
    "def IQR_outlier(data) :\n",
    "    Q1 = data.quantile(0.25)\n",
    "    Q3 = data.quantile(0.75)\n",
    "\n",
    "    IQR = Q3 - Q1\n",
    "\n",
    "    lower_bound = Q1 - (1.5 * IQR)\n",
    "    upper_bound = Q3 + (1.5 * IQR)\n",
    "\n",
    "    return pd.concat([lower_bound, upper_bound], axis = 1).T"
   ]
  },
  {
   "cell_type": "code",
   "execution_count": null,
   "id": "f47a4e14",
   "metadata": {
    "colab": {
     "base_uri": "https://localhost:8080/",
     "height": 582
    },
    "executionInfo": {
     "elapsed": 475,
     "status": "ok",
     "timestamp": 1696689639645,
     "user": {
      "displayName": "‍한승윤[재학 / 컴퓨터.전자시스템공학전공]",
      "userId": "08967695426292389766"
     },
     "user_tz": -540
    },
    "id": "f47a4e14",
    "outputId": "47aa405d-3826-4403-c361-74fa518d7827"
   },
   "outputs": [],
   "source": [
    "# 정상 범위와 이상 범위의 데이터 간 윌콕슨 순위합 검정 실시\n",
    "\n",
    "ranksum_p = []\n",
    "variable_17 = ['SAMPLE_TRANSFER_DAY', 'AL', 'B', 'BA', 'BE', 'CA', 'CD', 'K', 'LI', 'MG', 'NA', 'P', 'PB', 'S', 'SB', 'SI', 'SN'] #p_value <= 0.05\n",
    "\n",
    "# alternative = 'greater'을 걸어줘서 한쪽 검정으로 실시\n",
    "# scipy 1.8.1 버전 이상이어야 ranksums의 옵션인 alternative(한쪽 검정) 사용 가능\n",
    "for v in variable_17 :\n",
    "    temp = ranksums(train.loc[(train['Y_LABEL'] == 1) & (train[v].notnull()), v],\n",
    "                  train.loc[(train['Y_LABEL'] == 0) & (train[v].notnull()), v],\n",
    "                  alternative = 'greater').pvalue\n",
    "    ranksum_p.append(temp)\n",
    "\n",
    "Wilcoxon_var_table = pd.DataFrame({'variable' : variable_17,\n",
    "                                   'p_value' : ranksum_p,\n",
    "                                   'p_value_round' : np.round(ranksum_p, 4)})\n",
    "Wilcoxon_var_table.sort_values('p_value')"
   ]
  },
  {
   "cell_type": "code",
   "execution_count": null,
   "id": "ad083ed9",
   "metadata": {
    "colab": {
     "base_uri": "https://localhost:8080/",
     "height": 332
    },
    "executionInfo": {
     "elapsed": 395,
     "status": "ok",
     "timestamp": 1696689642718,
     "user": {
      "displayName": "‍한승윤[재학 / 컴퓨터.전자시스템공학전공]",
      "userId": "08967695426292389766"
     },
     "user_tz": -540
    },
    "id": "ad083ed9",
    "outputId": "43daf51d-3e59-4992-b5bc-538420420ebf"
   },
   "outputs": [],
   "source": [
    "# P_value가 0.05 이하인 변수만 추출\n",
    "Wilcoxon_var_table.loc[Wilcoxon_var_table['p_value'] <= 0.05, :].sort_values('p_value')"
   ]
  },
  {
   "cell_type": "code",
   "execution_count": null,
   "id": "f12040f0",
   "metadata": {
    "colab": {
     "base_uri": "https://localhost:8080/"
    },
    "executionInfo": {
     "elapsed": 346,
     "status": "ok",
     "timestamp": 1696689645243,
     "user": {
      "displayName": "‍한승윤[재학 / 컴퓨터.전자시스템공학전공]",
      "userId": "08967695426292389766"
     },
     "user_tz": -540
    },
    "id": "f12040f0",
    "outputId": "659198b7-f969-45ea-d8c2-d714deae840d"
   },
   "outputs": [],
   "source": [
    "Wilcoxon_var_table.loc[Wilcoxon_var_table['p_value'] <= 0.05, 'variable']"
   ]
  },
  {
   "cell_type": "code",
   "execution_count": null,
   "id": "794d15fa",
   "metadata": {
    "id": "794d15fa"
   },
   "outputs": [],
   "source": [
    "# 각 변수에 대해 '정상 범위 데이터 개수', '이상 범위 데이터 개수', '전체 데이터 합계',\n",
    "#               '정상 범위 데이터의 불량 개수', '이상 범위 데이터의 불량 개수', '불량 합계',\n",
    "#               '정상 범위 데이터의 불량률', '이상 범위 데이터의 불량률'\n",
    "# 에 대한 Table 생성\n",
    "\n",
    "variable_9 = ['AL', 'BA', 'K', 'LI', 'NA', 'S', 'SB', 'SI', 'SN']\n",
    "\n",
    "outlier_table = pd.DataFrame(np.zeros([8, len(variable_9)]), columns = variable_9,\n",
    "                             index = ['정상 데이터', '이상치 데이터', '전체 데이터',\n",
    "                                      '정상 데이터 불량 개수', '이상치 데이터 불량 개수', '불량 합계',\n",
    "                                      '정상 데이터 불량률', '이상치 데이터 불량률'])\n",
    "\n",
    "for v in variable_9 :\n",
    "    temp1 = train2.loc[(IQR_outlier(train2).loc[0, v] <= train2[v]) &\n",
    "                        (train2[v] <= IQR_outlier(train2).loc[1, v]), :]\n",
    "    temp2 = train2.loc[(IQR_outlier(train2).loc[0, v] > train2[v]) | (train2[v] > IQR_outlier(train2).loc[1, v]), :]\n",
    "\n",
    "    outlier_table.at['정상 데이터', v] = temp1.shape[0]\n",
    "    outlier_table.at['이상치 데이터', v] = temp2.shape[0]\n",
    "    outlier_table.at['전체 데이터', v] = temp1.shape[0] + temp2.shape[0]\n",
    "\n",
    "    temp3 = temp1.loc[train2['Y_LABEL'] == 1, :]\n",
    "    temp4 = temp2.loc[train2['Y_LABEL'] == 1, :]\n",
    "    outlier_table.at['정상 데이터 불량 개수', v] = temp3.shape[0]\n",
    "    outlier_table.at['이상치 데이터 불량 개수', v] = temp4.shape[0]\n",
    "    outlier_table.at['불량 합계', v] = temp3.shape[0] + temp4.shape[0]\n",
    "\n",
    "    if temp1.shape[0] == 0 :\n",
    "        temp5 = 0\n",
    "    else :\n",
    "        temp5 = np.round(temp3.shape[0] / temp1.shape[0] * 100, 3)\n",
    "    outlier_table.at['정상 데이터 불량률', v] = temp5\n",
    "\n",
    "    if temp2.shape[0] == 0 :\n",
    "        temp6 = 0\n",
    "    else :\n",
    "        temp6 = np.round(temp4.shape[0] / temp2.shape[0] * 100, 3)\n",
    "    outlier_table.at['이상치 데이터 불량률', v] = temp6\n",
    "\n",
    "outlier_table = outlier_table.T"
   ]
  },
  {
   "cell_type": "code",
   "execution_count": null,
   "id": "f3b3e328",
   "metadata": {
    "colab": {
     "base_uri": "https://localhost:8080/",
     "height": 332
    },
    "executionInfo": {
     "elapsed": 477,
     "status": "ok",
     "timestamp": 1696689655343,
     "user": {
      "displayName": "‍한승윤[재학 / 컴퓨터.전자시스템공학전공]",
      "userId": "08967695426292389766"
     },
     "user_tz": -540
    },
    "id": "f3b3e328",
    "outputId": "c9b41d73-3ba6-41f8-cc48-a7a17ccd19bc"
   },
   "outputs": [],
   "source": [
    "outlier_table.nlargest(len(variable_17), columns = ['이상치 데이터 불량 개수'])"
   ]
  },
  {
   "cell_type": "code",
   "execution_count": null,
   "id": "3e59907c",
   "metadata": {
    "colab": {
     "base_uri": "https://localhost:8080/",
     "height": 332
    },
    "executionInfo": {
     "elapsed": 636,
     "status": "ok",
     "timestamp": 1696689656515,
     "user": {
      "displayName": "‍한승윤[재학 / 컴퓨터.전자시스템공학전공]",
      "userId": "08967695426292389766"
     },
     "user_tz": -540
    },
    "id": "3e59907c",
    "outputId": "5b6255c8-2772-4d3e-e3e0-1a057f5d73a4"
   },
   "outputs": [],
   "source": [
    "outlier_table.nlargest(len(variable_17), columns = ['이상치 데이터 불량률'])"
   ]
  },
  {
   "cell_type": "code",
   "execution_count": null,
   "id": "zjbsHlXPETmU",
   "metadata": {
    "colab": {
     "base_uri": "https://localhost:8080/"
    },
    "executionInfo": {
     "elapsed": 414,
     "status": "ok",
     "timestamp": 1696689697436,
     "user": {
      "displayName": "‍한승윤[재학 / 컴퓨터.전자시스템공학전공]",
      "userId": "08967695426292389766"
     },
     "user_tz": -540
    },
    "id": "zjbsHlXPETmU",
    "outputId": "96ec3657-ce1f-4a64-8aec-86ee5b35fee3"
   },
   "outputs": [],
   "source": [
    "count_ones = (train['Y_LABEL'] == 1).sum()\n",
    "print(\"1인 값의 개수:\", count_ones)"
   ]
  },
  {
   "cell_type": "code",
   "execution_count": null,
   "id": "4873e486",
   "metadata": {
    "colab": {
     "base_uri": "https://localhost:8080/"
    },
    "executionInfo": {
     "elapsed": 443,
     "status": "ok",
     "timestamp": 1696689698382,
     "user": {
      "displayName": "‍한승윤[재학 / 컴퓨터.전자시스템공학전공]",
      "userId": "08967695426292389766"
     },
     "user_tz": -540
    },
    "id": "4873e486",
    "outputId": "5488ac11-3739-4e87-f335-d0976e5339ef"
   },
   "outputs": [],
   "source": [
    "variable = variable_9\n",
    "\n",
    "target_var = []\n",
    "\n",
    "for v in variable :\n",
    "\n",
    "    print(v)\n",
    "\n",
    "    LB = IQR_outlier(train).loc[0, v]\n",
    "    RB = IQR_outlier(train).loc[1, v]\n",
    "    Defect_Q50 = train.loc[(train['Y_LABEL'] == 1) & (train[v].notnull()), v].quantile(0.5)\n",
    "\n",
    "    print(LB, Defect_Q50, RB)\n",
    "\n",
    "    if (Defect_Q50 < LB) or (Defect_Q50 > RB) :\n",
    "        target_var.append(v)\n",
    "    else :\n",
    "        continue"
   ]
  },
  {
   "cell_type": "markdown",
   "id": "XSZ_nfyVDrtY",
   "metadata": {
    "id": "XSZ_nfyVDrtY"
   },
   "source": [
    "# 지식증류"
   ]
  },
  {
   "cell_type": "markdown",
   "id": "l4Zc2KYtEG3L",
   "metadata": {
    "id": "l4Zc2KYtEG3L"
   },
   "source": [
    "##### Teacher model(catboost)"
   ]
  },
  {
   "cell_type": "code",
   "execution_count": null,
   "id": "e3feaa26",
   "metadata": {
    "id": "e3feaa26"
   },
   "outputs": [],
   "source": [
    "train1 = train.copy()\n",
    "test1 = test.copy()"
   ]
  },
  {
   "cell_type": "code",
   "execution_count": null,
   "id": "e3b70ea2",
   "metadata": {
    "colab": {
     "base_uri": "https://localhost:8080/"
    },
    "executionInfo": {
     "elapsed": 6,
     "status": "ok",
     "timestamp": 1696749172433,
     "user": {
      "displayName": "‍한승윤[재학 / 컴퓨터.전자시스템공학전공]",
      "userId": "08967695426292389766"
     },
     "user_tz": -540
    },
    "id": "e3b70ea2",
    "outputId": "abca7bc7-5391-450d-c3d4-1c2d699302a0"
   },
   "outputs": [],
   "source": [
    "train2 = train1.loc[:, ['COMPONENT_ARBITRARY', 'ANONYMOUS_1', 'YEAR', 'ANONYMOUS_2', 'AG',\n",
    "                                        'CO', 'CR', 'CU', 'FE', 'H2O', 'MN', 'MO', 'NI', 'PQINDEX', 'TI', 'V',\n",
    "                                        'V40', 'ZN', 'Y_LABEL', 'SI', 'K']]\n",
    "test2 = test1.drop(['ID'], axis = 1)\n",
    "\n",
    "print(train2.shape)\n",
    "print(test2.shape)"
   ]
  },
  {
   "cell_type": "code",
   "execution_count": null,
   "id": "5m-guhmz_-0w",
   "metadata": {
    "colab": {
     "base_uri": "https://localhost:8080/",
     "height": 256
    },
    "executionInfo": {
     "elapsed": 4,
     "status": "ok",
     "timestamp": 1696749173716,
     "user": {
      "displayName": "‍한승윤[재학 / 컴퓨터.전자시스템공학전공]",
      "userId": "08967695426292389766"
     },
     "user_tz": -540
    },
    "id": "5m-guhmz_-0w",
    "outputId": "2a78c683-7404-4028-c6cd-5653a5e2f7ea"
   },
   "outputs": [],
   "source": [
    "train2.head()"
   ]
  },
  {
   "cell_type": "code",
   "execution_count": null,
   "id": "978e05c7",
   "metadata": {
    "colab": {
     "base_uri": "https://localhost:8080/"
    },
    "executionInfo": {
     "elapsed": 6,
     "status": "ok",
     "timestamp": 1696749174048,
     "user": {
      "displayName": "‍한승윤[재학 / 컴퓨터.전자시스템공학전공]",
      "userId": "08967695426292389766"
     },
     "user_tz": -540
    },
    "id": "978e05c7",
    "outputId": "9df391b7-8433-4ec3-8d2e-0dc54720152c"
   },
   "outputs": [],
   "source": [
    "# 범주형 변수인 COMPONENT_ARBITRARY와 YEAR를 LabelEncoder 변환\n",
    "\n",
    "le1 = LabelEncoder()\n",
    "le2 = LabelEncoder()\n",
    "\n",
    "train2['COMPONENT_ARBITRARY_category'] = le1.fit_transform(train2['COMPONENT_ARBITRARY'])\n",
    "train2['YEAR_category'] = le2.fit_transform(train2['YEAR'])\n",
    "\n",
    "test2['COMPONENT_ARBITRARY_category'] = le1.transform(test2['COMPONENT_ARBITRARY'])\n",
    "test2['YEAR_category'] = le2.transform(test2['YEAR'])\n",
    "\n",
    "# 원래 범주형 변수는 제거해준다.\n",
    "train3 = train2.drop(['COMPONENT_ARBITRARY', 'YEAR'], axis = 1)\n",
    "test3 = test2.drop(['COMPONENT_ARBITRARY', 'YEAR'], axis = 1)\n",
    "\n",
    "categorical_features = ['COMPONENT_ARBITRARY_category', 'YEAR_category']\n",
    "\n",
    "print(train3.shape)\n",
    "print(test3.shape)"
   ]
  },
  {
   "cell_type": "code",
   "execution_count": null,
   "id": "31b3fc38",
   "metadata": {
    "colab": {
     "base_uri": "https://localhost:8080/",
     "height": 256
    },
    "executionInfo": {
     "elapsed": 3,
     "status": "ok",
     "timestamp": 1696749175324,
     "user": {
      "displayName": "‍한승윤[재학 / 컴퓨터.전자시스템공학전공]",
      "userId": "08967695426292389766"
     },
     "user_tz": -540
    },
    "id": "31b3fc38",
    "outputId": "1ecc0bb8-a671-4a47-dd86-b89fde62ab6c"
   },
   "outputs": [],
   "source": [
    "train3.head()"
   ]
  },
  {
   "cell_type": "code",
   "execution_count": null,
   "id": "5fa79d06",
   "metadata": {
    "colab": {
     "base_uri": "https://localhost:8080/"
    },
    "executionInfo": {
     "elapsed": 366,
     "status": "ok",
     "timestamp": 1696749198832,
     "user": {
      "displayName": "‍한승윤[재학 / 컴퓨터.전자시스템공학전공]",
      "userId": "08967695426292389766"
     },
     "user_tz": -540
    },
    "id": "5fa79d06",
    "outputId": "c43dda4c-e8a9-4923-b5a2-cbf80b06b6c4"
   },
   "outputs": [],
   "source": [
    "# 교차 검증을 위해 X_train을 X_partrain과 X_val로 분할\n",
    "# stratify 옵션을 사용하여 y의 정상, 불량 비율에 맞게 분할\n",
    "\n",
    "X_train = train3.drop(['Y_LABEL'], axis = 1)\n",
    "y_train = train3['Y_LABEL']\n",
    "X_test = test3\n",
    "\n",
    "X_partrain, X_val, y_partrain, y_val = train_test_split(X_train, y_train, test_size = 0.3, random_state = 39, stratify = y_train)\n",
    "print(X_partrain.shape)\n",
    "print(X_val.shape)\n",
    "print(y_partrain.shape)\n",
    "print(y_val.shape)"
   ]
  },
  {
   "cell_type": "code",
   "execution_count": null,
   "id": "rw75zuDUpOcA",
   "metadata": {
    "colab": {
     "base_uri": "https://localhost:8080/",
     "height": 226
    },
    "executionInfo": {
     "elapsed": 4,
     "status": "ok",
     "timestamp": 1696749199981,
     "user": {
      "displayName": "‍한승윤[재학 / 컴퓨터.전자시스템공학전공]",
      "userId": "08967695426292389766"
     },
     "user_tz": -540
    },
    "id": "rw75zuDUpOcA",
    "outputId": "fe61d13a-a36e-45c1-943f-36a1ad85f6b0"
   },
   "outputs": [],
   "source": [
    "X_test.head()"
   ]
  },
  {
   "cell_type": "code",
   "execution_count": null,
   "id": "8gGNO3GGAFlE",
   "metadata": {
    "id": "8gGNO3GGAFlE"
   },
   "outputs": [],
   "source": [
    "# hyperparameter는 learning_rate, n_estimators, max_depth 활용\n",
    "\n",
    "def objective(trial : Trial) -> float :\n",
    "\n",
    "    params_cat = {\n",
    "        \"random_state\" : 39,\n",
    "        'learning_rate' : trial.suggest_loguniform('learning_rate', 0.001, 1),\n",
    "        \"n_estimators\" : trial.suggest_int(\"n_estimators\", 100, 1000),\n",
    "        \"max_depth\" : trial.suggest_int(\"max_depth\", 3, 16)\n",
    "  }\n",
    "\n",
    "    model = CatBoostClassifier(**params_cat)\n",
    "    model.fit(X_partrain, y_partrain, eval_set = [(X_val, y_val)],\n",
    "              early_stopping_rounds = 100, cat_features = categorical_features, verbose = False)\n",
    "\n",
    "    cat_pred = model.predict(X_val)\n",
    "    AUC = roc_auc_score(y_val, cat_pred)\n",
    "\n",
    "    return AUC"
   ]
  },
  {
   "cell_type": "code",
   "execution_count": null,
   "id": "Snug6oX-AFns",
   "metadata": {
    "colab": {
     "base_uri": "https://localhost:8080/"
    },
    "executionInfo": {
     "elapsed": 4034602,
     "status": "ok",
     "timestamp": 1696694529330,
     "user": {
      "displayName": "‍한승윤[재학 / 컴퓨터.전자시스템공학전공]",
      "userId": "08967695426292389766"
     },
     "user_tz": -540
    },
    "id": "Snug6oX-AFns",
    "outputId": "ce149a2e-4b43-4f70-94cd-bea003e9c5f1"
   },
   "outputs": [],
   "source": [
    "# Optuna hyperparameter 작업 시작\n",
    "\n",
    "sampler = TPESampler(seed = 39)\n",
    "study = optuna.create_study(\n",
    "    study_name = \"cat_parameter_opt\",\n",
    "    direction = \"maximize\",\n",
    "    sampler = sampler)\n",
    "study.optimize(objective, n_trials = 100)"
   ]
  },
  {
   "cell_type": "code",
   "execution_count": null,
   "id": "vf2-TPQkAFqC",
   "metadata": {
    "colab": {
     "base_uri": "https://localhost:8080/"
    },
    "executionInfo": {
     "elapsed": 384,
     "status": "ok",
     "timestamp": 1696694692485,
     "user": {
      "displayName": "‍한승윤[재학 / 컴퓨터.전자시스템공학전공]",
      "userId": "08967695426292389766"
     },
     "user_tz": -540
    },
    "id": "vf2-TPQkAFqC",
    "outputId": "700e93fd-75ae-4c5a-cb73-1674c1b1bfcd"
   },
   "outputs": [],
   "source": [
    "# 가장 좋은 hyperparmeter와 성능 확인\n",
    "\n",
    "print(\"Best Score :\", study.best_value)\n",
    "print(\"Best trial :\", study.best_trial.params)"
   ]
  },
  {
   "cell_type": "code",
   "execution_count": null,
   "id": "0VSsJfx6AFsp",
   "metadata": {
    "colab": {
     "base_uri": "https://localhost:8080/"
    },
    "executionInfo": {
     "elapsed": 353152,
     "status": "ok",
     "timestamp": 1696749563485,
     "user": {
      "displayName": "‍한승윤[재학 / 컴퓨터.전자시스템공학전공]",
      "userId": "08967695426292389766"
     },
     "user_tz": -540
    },
    "id": "0VSsJfx6AFsp",
    "outputId": "21c5e0a8-3ad8-47d9-cf9c-b6d9c404cfac"
   },
   "outputs": [],
   "source": [
    "# 위의 초모수 적용하고, StratifiedKFold을 이용해 모델 적합\n",
    "\n",
    "n_fold = 5\n",
    "cv = StratifiedKFold(n_splits = n_fold, shuffle = True, random_state = 39)\n",
    "\n",
    "cat_val = np.zeros((X_train.shape[0], 2))\n",
    "cat_partrain = np.zeros((X_partrain.shape[0], 2))\n",
    "\n",
    "for i, (i_trn, i_val) in enumerate(cv.split(X_train, y_train), 1):\n",
    "    print(f'training model for CV #{i}')\n",
    "    optuna_cat = CatBoostClassifier(\n",
    "        random_state = 39,\n",
    "        learning_rate = 0.04520189550052093,\n",
    "        n_estimators = 820,\n",
    "        max_depth = 9)\n",
    "\n",
    "    optuna_cat.fit(X_train.loc[i_trn, :], y_train[i_trn], verbose = False, cat_features = categorical_features)\n",
    "\n",
    "    cat_val[i_val, :] = optuna_cat.predict_proba(X_train.loc[i_val, :])\n",
    "    cat_partrain += optuna_cat.predict_proba(X_partrain) / n_fold\n",
    "\n",
    "    # 학습이 완료된 Teacher 모델 5개를 저장\n",
    "    with open('Teacher_model' + str(i) + '.pickle', 'wb') as fw:\n",
    "        pickle.dump(optuna_cat, fw)"
   ]
  },
  {
   "cell_type": "code",
   "execution_count": null,
   "id": "Y9o_2Rk2RVTJ",
   "metadata": {
    "colab": {
     "base_uri": "https://localhost:8080/"
    },
    "executionInfo": {
     "elapsed": 30,
     "status": "ok",
     "timestamp": 1696740609513,
     "user": {
      "displayName": "‍한승윤[재학 / 컴퓨터.전자시스템공학전공]",
      "userId": "08967695426292389766"
     },
     "user_tz": -540
    },
    "id": "Y9o_2Rk2RVTJ",
    "outputId": "af4535e3-eac6-4e45-a1a2-1fa9d6d2eb29"
   },
   "outputs": [],
   "source": [
    "len(X_train)"
   ]
  },
  {
   "cell_type": "code",
   "execution_count": null,
   "id": "PjBzTNZLAFu_",
   "metadata": {
    "colab": {
     "base_uri": "https://localhost:8080/"
    },
    "executionInfo": {
     "elapsed": 27,
     "status": "ok",
     "timestamp": 1696749563485,
     "user": {
      "displayName": "‍한승윤[재학 / 컴퓨터.전자시스템공학전공]",
      "userId": "08967695426292389766"
     },
     "user_tz": -540
    },
    "id": "PjBzTNZLAFu_",
    "outputId": "e9256065-1d2a-4505-97ac-6034614ffaa4"
   },
   "outputs": [],
   "source": [
    "# Teacher model에서 구한 예측불량률을 train 데이터에 넣기\n",
    "\n",
    "train3['model1_prob'] = cat_val[:, 1]\n",
    "print(train3.shape)"
   ]
  },
  {
   "cell_type": "code",
   "execution_count": null,
   "id": "lmtv1zlMAFxU",
   "metadata": {
    "colab": {
     "base_uri": "https://localhost:8080/",
     "height": 226
    },
    "executionInfo": {
     "elapsed": 499,
     "status": "ok",
     "timestamp": 1696677308113,
     "user": {
      "displayName": "‍한승윤[재학 / 컴퓨터.전자시스템공학전공]",
      "userId": "08967695426292389766"
     },
     "user_tz": -540
    },
    "id": "lmtv1zlMAFxU",
    "outputId": "be6298b7-5650-4068-f513-8668bfde3fc2"
   },
   "outputs": [],
   "source": [
    "train3.head()"
   ]
  },
  {
   "cell_type": "markdown",
   "id": "cqX2qmA-EaL9",
   "metadata": {
    "id": "cqX2qmA-EaL9"
   },
   "source": [
    "##### Student model(catboost)"
   ]
  },
  {
   "cell_type": "code",
   "execution_count": null,
   "id": "rijOKKspAFzs",
   "metadata": {
    "colab": {
     "base_uri": "https://localhost:8080/"
    },
    "executionInfo": {
     "elapsed": 23,
     "status": "ok",
     "timestamp": 1696740609513,
     "user": {
      "displayName": "‍한승윤[재학 / 컴퓨터.전자시스템공학전공]",
      "userId": "08967695426292389766"
     },
     "user_tz": -540
    },
    "id": "rijOKKspAFzs",
    "outputId": "efd3cca4-fd3c-4517-b7d7-02cc45b5a241"
   },
   "outputs": [],
   "source": [
    "# Student model 적합 위해 18개 변수 이외에 나머지 변수 제거\n",
    "X_train2 = train3.drop(['Y_LABEL', 'model1_prob', 'SI', 'K'], axis = 1)\n",
    "y_train2 = train3['model1_prob']\n",
    "print(X_train2.shape)\n",
    "print(y_train2.shape)"
   ]
  },
  {
   "cell_type": "code",
   "execution_count": null,
   "id": "Swg2zJ1mncyN",
   "metadata": {
    "colab": {
     "base_uri": "https://localhost:8080/",
     "height": 226
    },
    "executionInfo": {
     "elapsed": 3,
     "status": "ok",
     "timestamp": 1696677312979,
     "user": {
      "displayName": "‍한승윤[재학 / 컴퓨터.전자시스템공학전공]",
      "userId": "08967695426292389766"
     },
     "user_tz": -540
    },
    "id": "Swg2zJ1mncyN",
    "outputId": "8e433545-044b-4df5-a246-ce3b0064ab2a"
   },
   "outputs": [],
   "source": [
    "X_train2.head()"
   ]
  },
  {
   "cell_type": "code",
   "execution_count": null,
   "id": "JqZJpmo4AF1x",
   "metadata": {
    "colab": {
     "base_uri": "https://localhost:8080/"
    },
    "executionInfo": {
     "elapsed": 353,
     "status": "ok",
     "timestamp": 1696695025126,
     "user": {
      "displayName": "‍한승윤[재학 / 컴퓨터.전자시스템공학전공]",
      "userId": "08967695426292389766"
     },
     "user_tz": -540
    },
    "id": "JqZJpmo4AF1x",
    "outputId": "d5c33e26-9a76-43e3-94e9-45b9b5265fdc"
   },
   "outputs": [],
   "source": [
    "X_partrain1, X_val1, y_partrain1, y_val1 = train_test_split(X_train2, y_train2, test_size = 0.3, random_state = 39)\n",
    "print(X_partrain1.shape)\n",
    "print(X_val1.shape)\n",
    "print(y_partrain1.shape)\n",
    "print(y_val1.shape)"
   ]
  },
  {
   "cell_type": "code",
   "execution_count": null,
   "id": "XVRRPPIId3NE",
   "metadata": {
    "colab": {
     "base_uri": "https://localhost:8080/",
     "height": 179
    },
    "executionInfo": {
     "elapsed": 7,
     "status": "ok",
     "timestamp": 1695539687308,
     "user": {
      "displayName": "‍한승윤[재학 / 컴퓨터.전자시스템공학전공]",
      "userId": "08967695426292389766"
     },
     "user_tz": -540
    },
    "id": "XVRRPPIId3NE",
    "outputId": "76277d70-506a-4ffe-84ed-430c3dfa5d3a"
   },
   "outputs": [],
   "source": [
    "'''\n",
    "def objective(trial: Trial) -> float:\n",
    "    params_cat = {\n",
    "        \"random_state\": 39,\n",
    "        \"learning_rate\": 0.05,\n",
    "        \"n_estimators\": 10000,\n",
    "        \"verbose\" : 1,\n",
    "        \"objective\" : \"MAE\",\n",
    "        \"max_depth\": trial.suggest_int(\"max_depth\", 1, 16),\n",
    "        \"colsample_bylevel\": trial.suggest_float(\"colsample_bylevel\", 0.8, 1.0),\n",
    "        \"subsample\": trial.suggest_float(\"subsample\", 0.3, 1.0),\n",
    "        \"min_child_samples\": trial.suggest_int(\"min_child_samples\", 5, 100),\n",
    "        \"max_bin\": trial.suggest_int(\"max_bin\", 200, 500),\n",
    "    }\n",
    "\n",
    "    X_tr, X_val, y_tr, y_val = train_test_split(X, y, test_size=0.2)\n",
    "\n",
    "    model = CatBoostRegressor(**params_cat)\n",
    "    model.fit(\n",
    "        X_tr,\n",
    "        y_tr,\n",
    "        eval_set=[(X_tr, y_tr), (X_val, y_val)],\n",
    "        early_stopping_rounds=10,\n",
    "        verbose=False,\n",
    "    )\n",
    "\n",
    "    cat_pred = model.predict(X_val)\n",
    "    log_score = mean_absolute_error(y_val, cat_pred)\n",
    "\n",
    "    return log_score\n",
    "'''"
   ]
  },
  {
   "cell_type": "code",
   "execution_count": null,
   "id": "JJojmtJyX1aP",
   "metadata": {
    "id": "JJojmtJyX1aP"
   },
   "outputs": [],
   "source": [
    "# hyperparameter는 learning_rate, n_estimators, max_depth 활용\n",
    "\n",
    "def objective(trial : Trial) -> float :\n",
    "\n",
    "    params_cat = {\n",
    "        \"random_state\" : 39,\n",
    "        'learning_rate' : trial.suggest_loguniform('learning_rate', 0.005, 0.5),\n",
    "        \"n_estimators\" : trial.suggest_int(\"n_estimators\", 400, 1000),\n",
    "        \"max_depth\" : trial.suggest_int(\"max_depth\", 4, 12),\n",
    "        \"colsample_bylevel\": trial.suggest_float(\"colsample_bylevel\", 0.8, 1.0),\n",
    "        \"subsample\": trial.suggest_float(\"subsample\", 0.3, 1.0),\n",
    "        \"min_child_samples\": trial.suggest_int(\"min_child_samples\", 5, 100),\n",
    "        \"max_bin\": trial.suggest_int(\"max_bin\", 200, 500)\n",
    "  }\n",
    "\n",
    "    model = CatBoostRegressor(**params_cat)\n",
    "    model.fit(X_partrain1, y_partrain1, eval_set = [(X_val1, y_val1)],\n",
    "              early_stopping_rounds = 100, cat_features = categorical_features, verbose = False)\n",
    "\n",
    "    cat_pred = model.predict(X_val1)\n",
    "    log_score = mean_absolute_error(y_val1, cat_pred)\n",
    "\n",
    "    return log_score"
   ]
  },
  {
   "cell_type": "code",
   "execution_count": null,
   "id": "-me0W1VdX9Tr",
   "metadata": {
    "colab": {
     "base_uri": "https://localhost:8080/"
    },
    "executionInfo": {
     "elapsed": 3314612,
     "status": "ok",
     "timestamp": 1696698354334,
     "user": {
      "displayName": "‍한승윤[재학 / 컴퓨터.전자시스템공학전공]",
      "userId": "08967695426292389766"
     },
     "user_tz": -540
    },
    "id": "-me0W1VdX9Tr",
    "outputId": "287a1835-cdfc-4ef4-d786-d01f6d4444ab"
   },
   "outputs": [],
   "source": [
    "# Optuna hyperparameter 작업 시작\n",
    "\n",
    "sampler = TPESampler(seed = 39)\n",
    "study = optuna.create_study(\n",
    "    study_name = \"cat_parameter_opt2\",\n",
    "    direction = \"minimize\",\n",
    "    sampler = sampler)\n",
    "study.optimize(objective, n_trials = 100)"
   ]
  },
  {
   "cell_type": "code",
   "execution_count": null,
   "id": "qcFkMAFSomsH",
   "metadata": {
    "colab": {
     "base_uri": "https://localhost:8080/"
    },
    "executionInfo": {
     "elapsed": 2,
     "status": "ok",
     "timestamp": 1696698589952,
     "user": {
      "displayName": "‍한승윤[재학 / 컴퓨터.전자시스템공학전공]",
      "userId": "08967695426292389766"
     },
     "user_tz": -540
    },
    "id": "qcFkMAFSomsH",
    "outputId": "0f9df701-b27a-425b-f05e-6a7cd963d5a2"
   },
   "outputs": [],
   "source": [
    "# 가장 좋은 hyperparmeter와 성능 확인\n",
    "\n",
    "print(\"Best Score :\", study.best_value)\n",
    "print(\"Best trial :\", study.best_trial.params)"
   ]
  },
  {
   "cell_type": "code",
   "execution_count": null,
   "id": "sXIwzASPAF4I",
   "metadata": {
    "colab": {
     "base_uri": "https://localhost:8080/"
    },
    "executionInfo": {
     "elapsed": 188189,
     "status": "ok",
     "timestamp": 1696698834837,
     "user": {
      "displayName": "‍한승윤[재학 / 컴퓨터.전자시스템공학전공]",
      "userId": "08967695426292389766"
     },
     "user_tz": -540
    },
    "id": "sXIwzASPAF4I",
    "outputId": "38b7f7a6-95c6-4866-86f4-d056308f5225"
   },
   "outputs": [],
   "source": [
    "# Optuna로 구한 hyperparameter를 적용하고, KFold을 이용해 모델 적합\n",
    "\n",
    "n_fold = 5\n",
    "cv = KFold(n_splits = n_fold, shuffle = True, random_state = 39)\n",
    "\n",
    "cat_val = np.zeros((X_train2.shape[0]))\n",
    "cat_test = np.zeros((X_test.shape[0]))\n",
    "\n",
    "print(cat_val.shape)\n",
    "print(cat_test.shape)\n",
    "\n",
    "for i, (i_trn, i_val) in enumerate(cv.split(X_train2, y_train2), 1):\n",
    "    print(f'training model for CV #{i}')\n",
    "    optuna_cat = CatBoostRegressor(\n",
    "        random_state = 39,\n",
    "        learning_rate = 0.06298645131696544,\n",
    "        n_estimators = 952,\n",
    "        max_depth = 9,\n",
    "        colsample_bylevel = 0.8348449498076053,\n",
    "        subsample= 0.9359572793379888,\n",
    "        min_child_samples = 17,\n",
    "        max_bin = 243\n",
    "        )\n",
    "\n",
    "    optuna_cat.fit(X_train2.loc[i_trn, :], y_train2[i_trn], verbose = False, cat_features = categorical_features)\n",
    "\n",
    "    cat_val[i_val] = optuna_cat.predict(X_train2.loc[i_val, :])\n",
    "    cat_test += optuna_cat.predict(X_test) / n_fold\n",
    "\n",
    "    # 학습이 완료된 Student 모델 5개를 저장\n",
    "    with open('Student_model' + str(i) + '.pickle', 'wb') as fw:\n",
    "        pickle.dump(optuna_cat, fw)"
   ]
  },
  {
   "cell_type": "code",
   "execution_count": null,
   "id": "8jPuITDcAF6K",
   "metadata": {
    "colab": {
     "base_uri": "https://localhost:8080/",
     "height": 1000
    },
    "executionInfo": {
     "elapsed": 814,
     "status": "ok",
     "timestamp": 1696698842428,
     "user": {
      "displayName": "‍한승윤[재학 / 컴퓨터.전자시스템공학전공]",
      "userId": "08967695426292389766"
     },
     "user_tz": -540
    },
    "id": "8jPuITDcAF6K",
    "outputId": "123c617e-f6d2-4fc0-91c1-0c923a36559a"
   },
   "outputs": [],
   "source": [
    "# Threshold에 따라 변화하는 TP, FP, FN, TN, 그리고 모델 성능 확인\n",
    "\n",
    "scores = []\n",
    "TP = []\n",
    "FP = []\n",
    "FN = []\n",
    "TN = []\n",
    "for threshold in range(50) :\n",
    "    threshold = threshold / 50\n",
    "    pred = cat_val\n",
    "    pred = np.where(pred >= threshold, 1, 0)\n",
    "    score = f1_score(y_train, pred)\n",
    "    scores.append(score)\n",
    "    TP.append(confusion_matrix(y_train, pred)[0][0])\n",
    "    FN.append(confusion_matrix(y_train, pred)[0][1])\n",
    "    FP.append(confusion_matrix(y_train, pred)[1][0])\n",
    "    TN.append(confusion_matrix(y_train, pred)[1][1])\n",
    "\n",
    "\n",
    "temp1 = pd.DataFrame(np.linspace(0, 0.98, 50), columns = ['threshold'])\n",
    "temp2 = pd.DataFrame(scores, columns = ['score'])\n",
    "temp3 = pd.DataFrame(TP, columns = ['TP'])\n",
    "temp4 = pd.DataFrame(FP, columns = ['FP'])\n",
    "temp5 = pd.DataFrame(FN, columns = ['FN'])\n",
    "temp6 = pd.DataFrame(TN, columns = ['TN'])\n",
    "scores = pd.concat([temp1, temp2, temp3, temp4, temp5, temp6], axis = 1)\n",
    "scores"
   ]
  },
  {
   "cell_type": "code",
   "execution_count": null,
   "id": "Q0pl394EAF8j",
   "metadata": {
    "colab": {
     "base_uri": "https://localhost:8080/",
     "height": 1000
    },
    "executionInfo": {
     "elapsed": 2292,
     "status": "ok",
     "timestamp": 1696698848633,
     "user": {
      "displayName": "‍한승윤[재학 / 컴퓨터.전자시스템공학전공]",
      "userId": "08967695426292389766"
     },
     "user_tz": -540
    },
    "id": "Q0pl394EAF8j",
    "outputId": "a5e5c4fe-4ae3-4e53-f516-bcb6c1cba2b4"
   },
   "outputs": [],
   "source": [
    "# Threshold에 따른 F1 Score Table 만들기\n",
    "\n",
    "scores = []\n",
    "for threshold in range(100) :\n",
    "    threshold = threshold / 100\n",
    "    pred = cat_val\n",
    "    pred = np.where(pred >= threshold, 1, 0)\n",
    "    score = f1_score(y_train, pred)\n",
    "    scores.append(score)\n",
    "\n",
    "temp1 = pd.DataFrame(np.linspace(0, 0.99, 100), columns = ['threshold'])\n",
    "temp2 = pd.DataFrame(scores, columns = ['score'])\n",
    "scores = pd.concat([temp1, temp2], axis = 1)\n",
    "scores.loc[: 50, :]"
   ]
  },
  {
   "cell_type": "code",
   "execution_count": null,
   "id": "eom3tOQjAF-o",
   "metadata": {
    "colab": {
     "base_uri": "https://localhost:8080/",
     "height": 81
    },
    "executionInfo": {
     "elapsed": 296,
     "status": "ok",
     "timestamp": 1696698856713,
     "user": {
      "displayName": "‍한승윤[재학 / 컴퓨터.전자시스템공학전공]",
      "userId": "08967695426292389766"
     },
     "user_tz": -540
    },
    "id": "eom3tOQjAF-o",
    "outputId": "8c06e387-986d-4b7f-e0e0-2fd4d2fcf2df"
   },
   "outputs": [],
   "source": [
    "# 가장 좋은 F1 Score일 때의 Threshold 확인\n",
    "\n",
    "scores.loc[scores['score'] == scores['score'].max(), :]"
   ]
  },
  {
   "cell_type": "code",
   "execution_count": null,
   "id": "TzRp9NUXAGA-",
   "metadata": {
    "colab": {
     "base_uri": "https://localhost:8080/"
    },
    "executionInfo": {
     "elapsed": 305,
     "status": "ok",
     "timestamp": 1696698908267,
     "user": {
      "displayName": "‍한승윤[재학 / 컴퓨터.전자시스템공학전공]",
      "userId": "08967695426292389766"
     },
     "user_tz": -540
    },
    "id": "TzRp9NUXAGA-",
    "outputId": "e479bd02-3077-41ef-de41-9b518106e67b"
   },
   "outputs": [],
   "source": [
    "# answer 만들기\n",
    "\n",
    "answer = np.zeros(cat_test.shape[0])\n",
    "\n",
    "for i in range(cat_test.shape[0]) :\n",
    "  if cat_test[i] >= 0.35 :\n",
    "    answer[i] = 1\n",
    "\n",
    "answer = answer.astype('int64')\n",
    "print(Counter(answer))"
   ]
  },
  {
   "cell_type": "code",
   "execution_count": null,
   "id": "Lad5IC2FAGCx",
   "metadata": {
    "id": "Lad5IC2FAGCx"
   },
   "outputs": [],
   "source": [
    "submission_preds = answer\n",
    "submission = pd.read_csv('/content/drive/MyDrive/Colab Notebooks/dacon/sample_submission.csv')\n",
    "submission['Y_LABEL'] = submission_preds\n",
    "submission.to_csv('/content/drive/MyDrive/Colab Notebooks/dacon/KD(Catboost+Catboost)+(SI,K)_submission.csv', index = False)"
   ]
  },
  {
   "cell_type": "markdown",
   "id": "ZI59402CElpx",
   "metadata": {
    "id": "ZI59402CElpx"
   },
   "source": [
    "##### Student model(lgbm)"
   ]
  },
  {
   "cell_type": "code",
   "execution_count": null,
   "id": "04de08ea",
   "metadata": {
    "colab": {
     "base_uri": "https://localhost:8080/"
    },
    "executionInfo": {
     "elapsed": 322,
     "status": "ok",
     "timestamp": 1696750253104,
     "user": {
      "displayName": "‍한승윤[재학 / 컴퓨터.전자시스템공학전공]",
      "userId": "08967695426292389766"
     },
     "user_tz": -540
    },
    "id": "04de08ea",
    "outputId": "53c76003-cecd-4d1c-f0b6-90a59c272b21"
   },
   "outputs": [],
   "source": [
    "# Student model 적합 위해 18개 변수 이외에 나머지 변수 제거\n",
    "student_X = train3.drop(['Y_LABEL', 'model1_prob', 'SI', 'K'], axis = 1)\n",
    "student_y = train3['model1_prob']\n",
    "print(student_X.shape)\n",
    "print(student_y.shape)"
   ]
  },
  {
   "cell_type": "code",
   "execution_count": null,
   "id": "4e8O1fqhYDfu",
   "metadata": {
    "id": "4e8O1fqhYDfu"
   },
   "outputs": [],
   "source": [
    "train_student_X, val_student_X, train_student_y, val_student_y = train_test_split(student_X, student_y, test_size=0.3, random_state=39)"
   ]
  },
  {
   "cell_type": "code",
   "execution_count": null,
   "id": "kUbT7XVbblmY",
   "metadata": {
    "colab": {
     "base_uri": "https://localhost:8080/"
    },
    "executionInfo": {
     "elapsed": 2,
     "status": "ok",
     "timestamp": 1696750254368,
     "user": {
      "displayName": "‍한승윤[재학 / 컴퓨터.전자시스템공학전공]",
      "userId": "08967695426292389766"
     },
     "user_tz": -540
    },
    "id": "kUbT7XVbblmY",
    "outputId": "44787a4f-03e5-44e7-fb0a-bbbe0f3c4e8f"
   },
   "outputs": [],
   "source": [
    "val_student_X.info()"
   ]
  },
  {
   "cell_type": "code",
   "execution_count": null,
   "id": "cvJatlNOYHyR",
   "metadata": {
    "id": "cvJatlNOYHyR"
   },
   "outputs": [],
   "source": [
    "import lightgbm as lgb\n",
    "from sklearn.metrics import mean_squared_error\n",
    "from sklearn.metrics import mean_absolute_error\n",
    "from optuna.samplers import TPESampler\n",
    "import optuna\n",
    "warnings.filterwarnings(\"ignore\", category=UserWarning, message=\"No further splits with positive gain\")\n",
    "\n",
    "def objective(trial : Trial) -> float :\n",
    "\n",
    "    param = {\n",
    "        'objective': 'regression',\n",
    "        'metric': 'rmse',\n",
    "        'max_depth': trial.suggest_int('max_depth',3, 15),\n",
    "        'learning_rate': trial.suggest_loguniform(\"learning_rate\", 1e-8, 1e-2),\n",
    "        \"num_leaves\": trial.suggest_int(\"num_leaves\", 2, 2**10),\n",
    "        'n_estimators': trial.suggest_int('n_estimators', 100, 3000),\n",
    "        'min_child_samples': trial.suggest_int('min_child_samples', 5, 100),\n",
    "        'subsample': trial.suggest_loguniform('subsample', 0.05, 1.0),\n",
    "    }\n",
    "\n",
    "    model = lgb.LGBMRegressor(**param)\n",
    "    model.fit(train_student_X, train_student_y)\n",
    "    pred = model.predict(val_student_X)\n",
    "    rmse = mean_squared_error(val_student_y, pred, squared=False)\n",
    "    #rmse = mean_absolute_error(val_student_y, pred)\n",
    "\n",
    "    return rmse"
   ]
  },
  {
   "cell_type": "code",
   "execution_count": null,
   "id": "s3WOjCM3YKqK",
   "metadata": {
    "colab": {
     "base_uri": "https://localhost:8080/",
     "output_embedded_package_id": "1Q3poloGeIjQx5IxLcIR9va0nM5ae4WAK"
    },
    "executionInfo": {
     "elapsed": 40830,
     "status": "ok",
     "timestamp": 1696752441277,
     "user": {
      "displayName": "‍한승윤[재학 / 컴퓨터.전자시스템공학전공]",
      "userId": "08967695426292389766"
     },
     "user_tz": -540
    },
    "id": "s3WOjCM3YKqK",
    "outputId": "ea838c1b-01bf-48c7-8d89-e8150f905dda"
   },
   "outputs": [],
   "source": [
    "sampler = TPESampler(seed=10)\n",
    "study = optuna.create_study(direction='minimize', sampler=sampler)\n",
    "study.optimize(objective, n_trials=100)"
   ]
  },
  {
   "cell_type": "code",
   "execution_count": null,
   "id": "D5zpBlqrYOXt",
   "metadata": {
    "colab": {
     "base_uri": "https://localhost:8080/"
    },
    "executionInfo": {
     "elapsed": 321,
     "status": "ok",
     "timestamp": 1696752993296,
     "user": {
      "displayName": "‍한승윤[재학 / 컴퓨터.전자시스템공학전공]",
      "userId": "08967695426292389766"
     },
     "user_tz": -540
    },
    "id": "D5zpBlqrYOXt",
    "outputId": "25d32057-59cf-4369-96db-a41681a997af"
   },
   "outputs": [],
   "source": [
    "# 가장 좋은 hyperparmeter와 성능 확인\n",
    "\n",
    "print(\"Best Score :\", study.best_value)\n",
    "print(\"Best trial :\", study.best_trial.params)\n",
    "#Best Score : 0.08972181659272566\n",
    "#Best trial : {'max_depth': 10, 'learning_rate': 0.004455729549480431, 'num_leaves': 897, 'n_estimators': 2757, 'min_child_samples': 27, 'subsample': 0.3242498946723266}"
   ]
  },
  {
   "cell_type": "code",
   "execution_count": null,
   "id": "zy8FKNqOmmVG",
   "metadata": {
    "colab": {
     "base_uri": "https://localhost:8080/"
    },
    "executionInfo": {
     "elapsed": 154382,
     "status": "ok",
     "timestamp": 1696753230373,
     "user": {
      "displayName": "‍한승윤[재학 / 컴퓨터.전자시스템공학전공]",
      "userId": "08967695426292389766"
     },
     "user_tz": -540
    },
    "id": "zy8FKNqOmmVG",
    "outputId": "d893414a-2582-4718-936c-1ab1464022ec"
   },
   "outputs": [],
   "source": [
    "# Optuna로 구한 hyperparameter를 적용하고, KFold을 이용해 모델 적합\n",
    "\n",
    "n_fold = 5\n",
    "cv = KFold(n_splits = n_fold, shuffle = True, random_state = 39)\n",
    "\n",
    "lgb_val = np.zeros((student_X .shape[0]))\n",
    "lgb_test = np.zeros((X_test.shape[0]))\n",
    "\n",
    "print(lgb_val.shape)\n",
    "print(lgb_test.shape)\n",
    "\n",
    "for i, (i_trn, i_val) in enumerate(cv.split(student_X , student_y), 1):\n",
    "    print(f'training model for CV #{i}')\n",
    "    optuna_lgb = lgb.LGBMRegressor(\n",
    "        random_state = 39,\n",
    "        learning_rate = 0.0038100843263103525,\n",
    "        n_estimators = 2092,\n",
    "        max_depth = 14,\n",
    "        min_child_samples = 17,\n",
    "        subsample = 0.30861713708935135,\n",
    "        num_leaves = 739\n",
    "        )\n",
    "\n",
    "    optuna_lgb.fit(student_X.loc[i_trn, :], student_y[i_trn])\n",
    "\n",
    "    lgb_val[i_val] = optuna_lgb.predict(student_X .loc[i_val, :])\n",
    "    lgb_test += optuna_lgb.predict(X_test) / n_fold\n",
    "\n",
    "    # 학습이 완료된 Student 모델 5개를 저장\n",
    "    with open('Student_model_lgb' + str(i) + '.pickle', 'wb') as fw:\n",
    "        pickle.dump(optuna_lgb, fw)"
   ]
  },
  {
   "cell_type": "code",
   "execution_count": null,
   "id": "7--mCBs-Wufk",
   "metadata": {
    "colab": {
     "base_uri": "https://localhost:8080/",
     "height": 1000
    },
    "executionInfo": {
     "elapsed": 1913,
     "status": "ok",
     "timestamp": 1696753343150,
     "user": {
      "displayName": "‍한승윤[재학 / 컴퓨터.전자시스템공학전공]",
      "userId": "08967695426292389766"
     },
     "user_tz": -540
    },
    "id": "7--mCBs-Wufk",
    "outputId": "1145bf7c-42a4-40f3-8812-63eb1fd29400"
   },
   "outputs": [],
   "source": [
    "# Threshold에 따라 변화하는 TP, FP, FN, TN, 그리고 모델 성능 확인\n",
    "\n",
    "scores = []\n",
    "TP = []\n",
    "FP = []\n",
    "FN = []\n",
    "TN = []\n",
    "for threshold in range(50) :\n",
    "    threshold = threshold / 50\n",
    "    pred = lgb_val\n",
    "    pred = np.where(pred >= threshold, 1, 0)\n",
    "    score = f1_score(y_train, pred)\n",
    "    scores.append(score)\n",
    "    TP.append(confusion_matrix(y_train, pred)[0][0])\n",
    "    FN.append(confusion_matrix(y_train, pred)[0][1])\n",
    "    FP.append(confusion_matrix(y_train, pred)[1][0])\n",
    "    TN.append(confusion_matrix(y_train, pred)[1][1])\n",
    "\n",
    "\n",
    "temp1 = pd.DataFrame(np.linspace(0, 0.98, 50), columns = ['threshold'])\n",
    "temp2 = pd.DataFrame(scores, columns = ['score'])\n",
    "temp3 = pd.DataFrame(TP, columns = ['TP'])\n",
    "temp4 = pd.DataFrame(FP, columns = ['FP'])\n",
    "temp5 = pd.DataFrame(FN, columns = ['FN'])\n",
    "temp6 = pd.DataFrame(TN, columns = ['TN'])\n",
    "scores = pd.concat([temp1, temp2, temp3, temp4, temp5, temp6], axis = 1)\n",
    "scores"
   ]
  },
  {
   "cell_type": "code",
   "execution_count": null,
   "id": "klPVovyxXbA2",
   "metadata": {
    "colab": {
     "base_uri": "https://localhost:8080/",
     "height": 1000
    },
    "executionInfo": {
     "elapsed": 1195,
     "status": "ok",
     "timestamp": 1696753345236,
     "user": {
      "displayName": "‍한승윤[재학 / 컴퓨터.전자시스템공학전공]",
      "userId": "08967695426292389766"
     },
     "user_tz": -540
    },
    "id": "klPVovyxXbA2",
    "outputId": "0270b2cc-92be-4965-9f96-f25cb6a2690e"
   },
   "outputs": [],
   "source": [
    "# Threshold에 따른 F1 Score Table 만들기\n",
    "\n",
    "scores = []\n",
    "for threshold in range(100) :\n",
    "    threshold = threshold / 100\n",
    "    pred = lgb_val\n",
    "    pred = np.where(pred >= threshold, 1, 0)\n",
    "    score = f1_score(y_train, pred)\n",
    "    scores.append(score)\n",
    "\n",
    "temp1 = pd.DataFrame(np.linspace(0, 0.99, 100), columns = ['threshold'])\n",
    "temp2 = pd.DataFrame(scores, columns = ['score'])\n",
    "scores = pd.concat([temp1, temp2], axis = 1)\n",
    "scores.loc[: 50, :]"
   ]
  },
  {
   "cell_type": "code",
   "execution_count": null,
   "id": "BXT5h_oqXgrm",
   "metadata": {
    "colab": {
     "base_uri": "https://localhost:8080/",
     "height": 81
    },
    "executionInfo": {
     "elapsed": 265,
     "status": "ok",
     "timestamp": 1696753348456,
     "user": {
      "displayName": "‍한승윤[재학 / 컴퓨터.전자시스템공학전공]",
      "userId": "08967695426292389766"
     },
     "user_tz": -540
    },
    "id": "BXT5h_oqXgrm",
    "outputId": "26bb7fda-40fe-4d21-e59a-dfb98bf8a60a"
   },
   "outputs": [],
   "source": [
    "# 가장 좋은 F1 Score일 때의 Threshold 확인\n",
    "\n",
    "scores.loc[scores['score'] == scores['score'].max(), :]"
   ]
  },
  {
   "cell_type": "code",
   "execution_count": null,
   "id": "_HmqG9S9XkzJ",
   "metadata": {
    "colab": {
     "base_uri": "https://localhost:8080/"
    },
    "executionInfo": {
     "elapsed": 337,
     "status": "ok",
     "timestamp": 1696753355171,
     "user": {
      "displayName": "‍한승윤[재학 / 컴퓨터.전자시스템공학전공]",
      "userId": "08967695426292389766"
     },
     "user_tz": -540
    },
    "id": "_HmqG9S9XkzJ",
    "outputId": "e267cb61-502e-46fc-b1af-07f3b9a41be2"
   },
   "outputs": [],
   "source": [
    "# answer 만들기\n",
    "\n",
    "answer = np.zeros(lgb_test.shape[0])\n",
    "\n",
    "for i in range(lgb_test.shape[0]) :\n",
    "  if lgb_test[i] >= 0.35 :\n",
    "    answer[i] = 1\n",
    "\n",
    "answer = answer.astype('int64')\n",
    "print(Counter(answer))"
   ]
  },
  {
   "cell_type": "code",
   "execution_count": null,
   "id": "R56iV5QbXnri",
   "metadata": {
    "id": "R56iV5QbXnri"
   },
   "outputs": [],
   "source": [
    "submission_preds = answer\n",
    "submission = pd.read_csv('/content/drive/MyDrive/Colab Notebooks/dacon/sample_submission.csv')\n",
    "submission['Y_LABEL'] = submission_preds\n",
    "submission.to_csv('/content/drive/MyDrive/Colab Notebooks/dacon/KD(Catboost+LGBM)+(SI,K)_submission.csv', index = False)"
   ]
  }
 ],
 "metadata": {
  "accelerator": "GPU",
  "colab": {
   "gpuType": "T4",
   "provenance": []
  },
  "kernelspec": {
   "display_name": "Python (dacon)",
   "language": "python",
   "name": "dacon"
  },
  "language_info": {
   "codemirror_mode": {
    "name": "ipython",
    "version": 3
   },
   "file_extension": ".py",
   "mimetype": "text/x-python",
   "name": "python",
   "nbconvert_exporter": "python",
   "pygments_lexer": "ipython3",
   "version": "3.9.17"
  }
 },
 "nbformat": 4,
 "nbformat_minor": 5
}
